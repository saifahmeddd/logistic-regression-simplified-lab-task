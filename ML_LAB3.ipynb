{
 "cells": [
  {
   "cell_type": "code",
   "execution_count": 1,
   "metadata": {},
   "outputs": [],
   "source": [
    "import pandas as pd\n",
    "import numpy as np"
   ]
  },
  {
   "cell_type": "markdown",
   "metadata": {},
   "source": [
    "#  QUESTION 1  \n",
    "PERFORMING LOGISTIC REGRESSION FROM SCRATCH"
   ]
  },
  {
   "cell_type": "code",
   "execution_count": 10,
   "metadata": {},
   "outputs": [],
   "source": [
    "def sigmoid(z):\n",
    "    return 1 / (1 + np.exp(-z))"
   ]
  },
  {
   "cell_type": "code",
   "execution_count": 11,
   "metadata": {},
   "outputs": [],
   "source": [
    "def cost(X, y, theta):\n",
    "    m = X.shape[0]\n",
    "    z = np.dot(X, theta)\n",
    "    h = sigmoid(z)\n",
    "    return -(1/m) * np.sum(y * np.log(h) + (1 - y) * np.log(1 - h))"
   ]
  },
  {
   "cell_type": "code",
   "execution_count": 4,
   "metadata": {},
   "outputs": [],
   "source": [
    "def gradient(X, y, theta):\n",
    "    m = X.shape[0]\n",
    "    z = np.dot(X, theta)\n",
    "    h = sigmoid(z)\n",
    "    return (1/m) * np.dot(X.T, (h - y))"
   ]
  },
  {
   "cell_type": "code",
   "execution_count": 5,
   "metadata": {},
   "outputs": [],
   "source": [
    "def logistic_regression(X, y, alpha=0.02, iterations=5000):\n",
    "    theta = np.random.rand(X.shape[1])\n",
    "    \n",
    "    for i in range(iterations):\n",
    "        grad = gradient(X, y, theta)\n",
    "        theta -= alpha * grad  \n",
    "    \n",
    "    return theta"
   ]
  },
  {
   "cell_type": "code",
   "execution_count": 6,
   "metadata": {},
   "outputs": [],
   "source": [
    "def predict(X, theta):\n",
    "    h = sigmoid(np.dot(X, theta))\n",
    "    return [1 if i > 0.5 else 0 for i in h]\n",
    "\n",
    "def z_score(x):\n",
    "    return (x - np.mean(x)) / np.std(x)"
   ]
  },
  {
   "cell_type": "code",
   "execution_count": 8,
   "metadata": {},
   "outputs": [],
   "source": [
    "train_X = np.array([\n",
    "    [60, 22],\n",
    "    [62, 25],\n",
    "    [67, 24],\n",
    "    [70, 20],\n",
    "    [71, 15],\n",
    "    [72, 14],\n",
    "    [75, 14],\n",
    "    [78, 11]\n",
    "])\n",
    "\n",
    "train_y = np.array([0, 0, 0, 0, 1, 1, 1, 1])\n",
    "\n",
    "test_X = np.array([\n",
    "    [61, 23],\n",
    "    [71, 19],\n",
    "    [73, 15],\n",
    "    [79, 13]\n",
    "])\n",
    "\n",
    "test_y = np.array([0, 0, 1, 1])\n",
    "\n",
    "train_X = np.apply_along_axis(z_score, 0, train_X)\n",
    "test_X = np.apply_along_axis(z_score, 0, test_X)\n",
    "\n",
    "train_X = np.c_[np.ones(train_X.shape[0]), train_X]\n",
    "test_X = np.c_[np.ones(test_X.shape[0]), test_X]\n",
    "\n",
    "theta = logistic_regression(train_X, train_y, alpha=0.02, iterations=5000)\n",
    "\n",
    "train_preds = predict(train_X, theta)\n",
    "test_preds = predict(test_X, theta)"
   ]
  },
  {
   "cell_type": "code",
   "execution_count": 12,
   "metadata": {},
   "outputs": [
    {
     "name": "stdout",
     "output_type": "stream",
     "text": [
      "\n",
      "learned theta values: [-0.67646125  2.54337563 -3.89028036]\n",
      "\n",
      "training set predictions: [0, 0, 0, 0, 1, 1, 1, 1]\n",
      "\n",
      "test set predictions: [0, 0, 1, 1]\n",
      "\n",
      "comparison of actual vs predicted (test set):\n",
      "   actual Class  predicted Class\n",
      "0             0                0\n",
      "1             0                0\n",
      "2             1                1\n",
      "3             1                1\n"
     ]
    }
   ],
   "source": [
    "print(\"\\nlearned theta values:\", theta)\n",
    "print(\"\\ntraining set predictions:\", train_preds)\n",
    "print(\"\\ntest set predictions:\", test_preds)\n",
    "\n",
    "actual_test_df = pd.DataFrame(test_y, columns=['actual Class'])\n",
    "predicted_test_df = pd.DataFrame(test_preds, columns=['predicted Class'])\n",
    "\n",
    "result_test = pd.concat([actual_test_df, predicted_test_df], axis=1)\n",
    "print(\"\\ncomparison of actual vs predicted (test set):\")\n",
    "print(result_test)"
   ]
  },
  {
   "cell_type": "markdown",
   "metadata": {},
   "source": [
    "# QUESTION 2  \n",
    "PERFORMING LOGISTIC REGRESSION USING sci-kit LEARN LIBRARY"
   ]
  },
  {
   "cell_type": "code",
   "execution_count": 3,
   "metadata": {},
   "outputs": [],
   "source": [
    "import sklearn\n",
    "import numpy as np\n",
    "import pandas as pd\n",
    "from sklearn.linear_model import LogisticRegression\n",
    "from sklearn.preprocessing import StandardScaler\n",
    "from sklearn.metrics import accuracy_score"
   ]
  },
  {
   "cell_type": "code",
   "execution_count": 6,
   "metadata": {},
   "outputs": [
    {
     "name": "stdout",
     "output_type": "stream",
     "text": [
      "\n",
      "learned coefficients (theta values): [[ 0.73151791 -1.12802981]]\n",
      "learned intercept: [-0.03389761]\n",
      "\n",
      "training set predictions: [0 0 0 0 1 1 1 1]\n",
      "\n",
      "test set predictions: [0 0 1 1]\n",
      "\n",
      "training set accuracy: 1.0\n",
      "test set accuracy: 1.0\n",
      "\n",
      "comparison of actual vs predicted (Test Set):\n",
      "   actual class  predicted class\n",
      "0             0                0\n",
      "1             0                0\n",
      "2             1                1\n",
      "3             1                1\n"
     ]
    }
   ],
   "source": [
    "train_X = np.array([\n",
    "    [60, 22],\n",
    "    [62, 25],\n",
    "    [67, 24],\n",
    "    [70, 20],\n",
    "    [71, 15],\n",
    "    [72, 14],\n",
    "    [75, 14],\n",
    "    [78, 11]\n",
    "])\n",
    "\n",
    "train_y = np.array([0, 0, 0, 0, 1, 1, 1, 1])\n",
    "\n",
    "test_X = np.array([\n",
    "    [61, 23],\n",
    "    [71, 19],\n",
    "    [73, 15],\n",
    "    [79, 13]\n",
    "])\n",
    "\n",
    "test_y = np.array([0, 0, 1, 1])\n",
    "\n",
    "scaler = StandardScaler()\n",
    "train_X = scaler.fit_transform(train_X)\n",
    "test_X = scaler.transform(test_X)\n",
    "\n",
    "model = LogisticRegression()\n",
    "model.fit(train_X, train_y)\n",
    "\n",
    "train_preds = model.predict(train_X)\n",
    "test_preds = model.predict(test_X)\n",
    "\n",
    "print(\"\\nlearned coefficients (theta values):\", model.coef_)\n",
    "print(\"learned intercept:\", model.intercept_)\n",
    "print(\"\\ntraining set predictions:\", train_preds)\n",
    "print(\"\\ntest set predictions:\", test_preds)\n",
    "\n",
    "train_accuracy = accuracy_score(train_y, train_preds)\n",
    "test_accuracy = accuracy_score(test_y, test_preds)\n",
    "print(\"\\ntraining set accuracy:\", train_accuracy)\n",
    "print(\"test set accuracy:\", test_accuracy)\n",
    "\n",
    "actual_test_df = pd.DataFrame(test_y, columns=['actual class'])\n",
    "predicted_test_df = pd.DataFrame(test_preds, columns=['predicted class'])\n",
    "result_test = pd.concat([actual_test_df, predicted_test_df], axis=1)\n",
    "print(\"\\ncomparison of actual vs predicted (Test Set):\")\n",
    "print(result_test)\n"
   ]
  },
  {
   "cell_type": "markdown",
   "metadata": {},
   "source": []
  }
 ],
 "metadata": {
  "kernelspec": {
   "display_name": "Python 3",
   "language": "python",
   "name": "python3"
  },
  "language_info": {
   "codemirror_mode": {
    "name": "ipython",
    "version": 3
   },
   "file_extension": ".py",
   "mimetype": "text/x-python",
   "name": "python",
   "nbconvert_exporter": "python",
   "pygments_lexer": "ipython3",
   "version": "3.12.5"
  }
 },
 "nbformat": 4,
 "nbformat_minor": 2
}
